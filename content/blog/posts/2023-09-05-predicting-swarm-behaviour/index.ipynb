{
 "cells": [
  {
   "attachments": {},
   "cell_type": "markdown",
   "id": "42cb8766-6b04-4c2c-a7ff-fbb9a8f1ff53",
   "metadata": {},
   "source": [
    "---\n",
    "title: \"Predicting swarm behaviour\"\n",
    "author: \"Temi\"\n",
    "description: \"...\"\n",
    "date: \"Mon 18 July 2022\"\n",
    "format:\n",
    "    html:\n",
    "        code-fold: true\n",
    "categories: [pytorch, deep learning]\n",
    "---"
   ]
  },
  {
   "attachments": {},
   "cell_type": "markdown",
   "id": "197a5bce",
   "metadata": {},
   "source": [
    "# Introduction\n",
    "\n",
    "To practice my deep learning chops/model-writing skills, I pick a toy dataset. Here I aim to predict swarm behaviour. "
   ]
  },
  {
   "cell_type": "code",
   "execution_count": 5,
   "id": "0db9b24c-1236-4b27-a030-3c3f237aab15",
   "metadata": {},
   "outputs": [
    {
     "name": "stdout",
     "output_type": "stream",
     "text": [
      "Kernel used is: dl-tools\n"
     ]
    }
   ],
   "source": [
    "import torch\n",
    "import numpy as np, os, sys, requests, pandas as pd, zipfile as zf\n",
    "import matplotlib.pyplot as plt\n",
    "\n",
    "print(f'Kernel used is: {os.path.basename(sys.executable.replace(\"/bin/python\",\"\"))}')"
   ]
  },
  {
   "cell_type": "code",
   "execution_count": 6,
   "id": "6491b4b8-3575-4424-972b-2a248619b55a",
   "metadata": {},
   "outputs": [
    {
     "name": "stdout",
     "output_type": "stream",
     "text": [
      "Pytorch version is 2.0.1+cu117\n"
     ]
    }
   ],
   "source": [
    "print(f'Pytorch version is {torch.__version__}')"
   ]
  },
  {
   "cell_type": "code",
   "execution_count": 7,
   "id": "b02b405e-d3ac-40b0-a0dd-e8deb6c7590d",
   "metadata": {},
   "outputs": [
    {
     "data": {
      "text/plain": [
       "(True, 0, 1, 'Quadro P1000')"
      ]
     },
     "execution_count": 7,
     "metadata": {},
     "output_type": "execute_result"
    }
   ],
   "source": [
    "torch.cuda.is_available(), torch.cuda.current_device(), torch.cuda.device_count(), torch.cuda.get_device_name(0)"
   ]
  },
  {
   "cell_type": "code",
   "execution_count": 8,
   "id": "b9ff739c-90e7-4005-9921-609947273c42",
   "metadata": {},
   "outputs": [
    {
     "name": "stdout",
     "output_type": "stream",
     "text": [
      "Using device: cuda\n",
      "\n",
      "Quadro P1000\n",
      "Memory Usage:\n",
      "Allocated: 0.0 GB\n",
      "Cached:    0.0 GB\n"
     ]
    }
   ],
   "source": [
    "# setting device on GPU if available, else CPU\n",
    "device = torch.device('cuda' if torch.cuda.is_available() else 'cpu')\n",
    "print('Using device:', device)\n",
    "print()\n",
    "\n",
    "#Additional Info when using cuda\n",
    "if device.type == 'cuda':\n",
    "    print(torch.cuda.get_device_name(0))\n",
    "    print('Memory Usage:')\n",
    "    print('Allocated:', round(torch.cuda.memory_allocated(0)/1024**3,1), 'GB')\n",
    "    print('Cached:   ', round(torch.cuda.memory_reserved(0)/1024**3,1), 'GB')"
   ]
  },
  {
   "attachments": {},
   "cell_type": "markdown",
   "id": "b52bd5d9",
   "metadata": {},
   "source": [
    "## Downloading the data and so on"
   ]
  },
  {
   "cell_type": "code",
   "execution_count": 10,
   "id": "48ec2d21-9f94-4c5e-82c2-1f78d611cf0f",
   "metadata": {},
   "outputs": [],
   "source": [
    "data_link = 'https://archive.ics.uci.edu/ml/machine-learning-databases/00524/Swarm%20Behavior%20Data.zip'\n",
    "data_dir = '/home/temi/Files/learning_stuff/pytorch_implementations/swarm behaviour'"
   ]
  },
  {
   "cell_type": "code",
   "execution_count": 14,
   "id": "bd7d924b-e892-411b-8ac3-e25ba01d70c0",
   "metadata": {},
   "outputs": [
    {
     "name": "stdout",
     "output_type": "stream",
     "text": [
      "data directory already exists.\n"
     ]
    }
   ],
   "source": [
    "if not 'data' in os.listdir(data_dir):\n",
    "    os.mkdir('/home/temi/Projects/swarm_behaviour/data/')\n",
    "else:\n",
    "    print('data directory already exists.')"
   ]
  },
  {
   "cell_type": "code",
   "execution_count": 15,
   "id": "608620a8-0a89-4de5-9504-cc96e82b244e",
   "metadata": {},
   "outputs": [],
   "source": [
    "def download_url(url, save_path, chunk_size=128):\n",
    "    r = requests.get(url, stream=True)\n",
    "    with open(save_path, 'wb') as fd:\n",
    "        for chunk in r.iter_content(chunk_size=chunk_size):\n",
    "            fd.write(chunk)"
   ]
  },
  {
   "cell_type": "code",
   "execution_count": 16,
   "id": "faee03b2-8702-41f2-b29a-e13e93e5a399",
   "metadata": {},
   "outputs": [
    {
     "name": "stdout",
     "output_type": "stream",
     "text": [
      "File already present.\n"
     ]
    }
   ],
   "source": [
    "data_path = os.path.join(data_dir, 'data', 'swarm_behaviour.zip')\n",
    "\n",
    "if not 'swarm_behaviour.zip' in os.listdir(os.path.join(data_dir, 'data')):\n",
    "    print('Downloading...')\n",
    "    download_url(data_link, )\n",
    "    print('Done.')\n",
    "else:\n",
    "    print('File already present.')"
   ]
  },
  {
   "cell_type": "code",
   "execution_count": 17,
   "id": "1400d0c6-a5a1-4cc9-b62a-4e7927e05bf1",
   "metadata": {},
   "outputs": [
    {
     "data": {
      "text/plain": [
       "['Swarm Behavior Data/Aligned.csv',\n",
       " 'Swarm Behavior Data/Flocking.csv',\n",
       " 'Swarm Behavior Data/Grouped.csv']"
      ]
     },
     "execution_count": 17,
     "metadata": {},
     "output_type": "execute_result"
    }
   ],
   "source": [
    "with zf.ZipFile(data_path, 'r') as obj:\n",
    "    name_of_files = obj.namelist()[1:]\n",
    "\n",
    "name_of_files"
   ]
  },
  {
   "cell_type": "code",
   "execution_count": 18,
   "id": "a5e12a4e-49d6-4a69-abb0-2edea4a5b573",
   "metadata": {},
   "outputs": [
    {
     "name": "stderr",
     "output_type": "stream",
     "text": [
      "/tmp/ipykernel_184041/1264924189.py:6: DtypeWarning: Columns (0) have mixed types. Specify dtype option on import or set low_memory=False.\n",
      "  swarm_data[keys[i]] = pd.read_csv(zipfile.open(file_name))\n"
     ]
    }
   ],
   "source": [
    "# read in each file into a dictionary\n",
    "keys = ['aligned', 'flocking', 'grouped']\n",
    "swarm_data = dict()\n",
    "for i, file_name in enumerate(name_of_files):\n",
    "    zipfile = zf.ZipFile(data_path)\n",
    "    swarm_data[keys[i]] = pd.read_csv(zipfile.open(file_name))\n",
    "    zipfile.close()"
   ]
  },
  {
   "cell_type": "code",
   "execution_count": 19,
   "id": "7ce6e812-57fc-487e-a600-73b7aa1a890e",
   "metadata": {},
   "outputs": [
    {
     "data": {
      "text/html": [
       "<div>\n",
       "<style scoped>\n",
       "    .dataframe tbody tr th:only-of-type {\n",
       "        vertical-align: middle;\n",
       "    }\n",
       "\n",
       "    .dataframe tbody tr th {\n",
       "        vertical-align: top;\n",
       "    }\n",
       "\n",
       "    .dataframe thead th {\n",
       "        text-align: right;\n",
       "    }\n",
       "</style>\n",
       "<table border=\"1\" class=\"dataframe\">\n",
       "  <thead>\n",
       "    <tr style=\"text-align: right;\">\n",
       "      <th></th>\n",
       "      <th>x1</th>\n",
       "      <th>y1</th>\n",
       "      <th>xVel1</th>\n",
       "      <th>yVel1</th>\n",
       "      <th>xA1</th>\n",
       "      <th>yA1</th>\n",
       "      <th>xS1</th>\n",
       "      <th>yS1</th>\n",
       "      <th>xC1</th>\n",
       "      <th>yC1</th>\n",
       "      <th>...</th>\n",
       "      <th>yVel200</th>\n",
       "      <th>xA200</th>\n",
       "      <th>yA200</th>\n",
       "      <th>xS200</th>\n",
       "      <th>yS200</th>\n",
       "      <th>xC200</th>\n",
       "      <th>yC200</th>\n",
       "      <th>nAC200</th>\n",
       "      <th>nS200</th>\n",
       "      <th>Class</th>\n",
       "    </tr>\n",
       "  </thead>\n",
       "  <tbody>\n",
       "    <tr>\n",
       "      <th>0</th>\n",
       "      <td>-1414.14</td>\n",
       "      <td>-535.22</td>\n",
       "      <td>-17.88</td>\n",
       "      <td>-7.23</td>\n",
       "      <td>0.00</td>\n",
       "      <td>0.0</td>\n",
       "      <td>0.00</td>\n",
       "      <td>0.00</td>\n",
       "      <td>0.00</td>\n",
       "      <td>0.00</td>\n",
       "      <td>...</td>\n",
       "      <td>-16.85</td>\n",
       "      <td>0.0</td>\n",
       "      <td>0.00</td>\n",
       "      <td>0.0</td>\n",
       "      <td>0.0</td>\n",
       "      <td>0.00</td>\n",
       "      <td>0.00</td>\n",
       "      <td>29</td>\n",
       "      <td>0</td>\n",
       "      <td>0</td>\n",
       "    </tr>\n",
       "    <tr>\n",
       "      <th>1</th>\n",
       "      <td>-1412.93</td>\n",
       "      <td>597.54</td>\n",
       "      <td>-13.55</td>\n",
       "      <td>-5.48</td>\n",
       "      <td>0.00</td>\n",
       "      <td>0.0</td>\n",
       "      <td>0.00</td>\n",
       "      <td>0.00</td>\n",
       "      <td>0.00</td>\n",
       "      <td>0.00</td>\n",
       "      <td>...</td>\n",
       "      <td>-12.09</td>\n",
       "      <td>0.0</td>\n",
       "      <td>0.00</td>\n",
       "      <td>0.0</td>\n",
       "      <td>0.0</td>\n",
       "      <td>0.00</td>\n",
       "      <td>0.00</td>\n",
       "      <td>44</td>\n",
       "      <td>0</td>\n",
       "      <td>0</td>\n",
       "    </tr>\n",
       "    <tr>\n",
       "      <th>2</th>\n",
       "      <td>-1407.38</td>\n",
       "      <td>70.72</td>\n",
       "      <td>-14.37</td>\n",
       "      <td>-5.81</td>\n",
       "      <td>0.00</td>\n",
       "      <td>0.0</td>\n",
       "      <td>0.00</td>\n",
       "      <td>0.00</td>\n",
       "      <td>0.00</td>\n",
       "      <td>0.00</td>\n",
       "      <td>...</td>\n",
       "      <td>-16.20</td>\n",
       "      <td>0.0</td>\n",
       "      <td>0.00</td>\n",
       "      <td>0.0</td>\n",
       "      <td>0.0</td>\n",
       "      <td>0.00</td>\n",
       "      <td>0.00</td>\n",
       "      <td>40</td>\n",
       "      <td>0</td>\n",
       "      <td>0</td>\n",
       "    </tr>\n",
       "    <tr>\n",
       "      <th>3</th>\n",
       "      <td>-1407.00</td>\n",
       "      <td>-759.80</td>\n",
       "      <td>-7.59</td>\n",
       "      <td>-1.27</td>\n",
       "      <td>-0.98</td>\n",
       "      <td>-0.2</td>\n",
       "      <td>0.00</td>\n",
       "      <td>0.00</td>\n",
       "      <td>0.91</td>\n",
       "      <td>0.41</td>\n",
       "      <td>...</td>\n",
       "      <td>2.99</td>\n",
       "      <td>-1.0</td>\n",
       "      <td>-0.07</td>\n",
       "      <td>0.0</td>\n",
       "      <td>0.0</td>\n",
       "      <td>-0.52</td>\n",
       "      <td>0.86</td>\n",
       "      <td>3</td>\n",
       "      <td>0</td>\n",
       "      <td>1</td>\n",
       "    </tr>\n",
       "    <tr>\n",
       "      <th>4</th>\n",
       "      <td>-1406.36</td>\n",
       "      <td>698.39</td>\n",
       "      <td>-16.54</td>\n",
       "      <td>-6.95</td>\n",
       "      <td>-1.00</td>\n",
       "      <td>0.0</td>\n",
       "      <td>-944.07</td>\n",
       "      <td>-396.62</td>\n",
       "      <td>0.00</td>\n",
       "      <td>0.00</td>\n",
       "      <td>...</td>\n",
       "      <td>-12.61</td>\n",
       "      <td>0.0</td>\n",
       "      <td>-1.00</td>\n",
       "      <td>0.0</td>\n",
       "      <td>0.0</td>\n",
       "      <td>0.00</td>\n",
       "      <td>0.00</td>\n",
       "      <td>13</td>\n",
       "      <td>0</td>\n",
       "      <td>0</td>\n",
       "    </tr>\n",
       "  </tbody>\n",
       "</table>\n",
       "<p>5 rows × 2401 columns</p>\n",
       "</div>"
      ],
      "text/plain": [
       "        x1      y1  xVel1  yVel1   xA1  yA1     xS1     yS1   xC1   yC1  ...  \\\n",
       "0 -1414.14 -535.22 -17.88  -7.23  0.00  0.0    0.00    0.00  0.00  0.00  ...   \n",
       "1 -1412.93  597.54 -13.55  -5.48  0.00  0.0    0.00    0.00  0.00  0.00  ...   \n",
       "2 -1407.38   70.72 -14.37  -5.81  0.00  0.0    0.00    0.00  0.00  0.00  ...   \n",
       "3 -1407.00 -759.80  -7.59  -1.27 -0.98 -0.2    0.00    0.00  0.91  0.41  ...   \n",
       "4 -1406.36  698.39 -16.54  -6.95 -1.00  0.0 -944.07 -396.62  0.00  0.00  ...   \n",
       "\n",
       "   yVel200  xA200  yA200  xS200  yS200  xC200  yC200  nAC200  nS200  Class  \n",
       "0   -16.85    0.0   0.00    0.0    0.0   0.00   0.00      29      0      0  \n",
       "1   -12.09    0.0   0.00    0.0    0.0   0.00   0.00      44      0      0  \n",
       "2   -16.20    0.0   0.00    0.0    0.0   0.00   0.00      40      0      0  \n",
       "3     2.99   -1.0  -0.07    0.0    0.0  -0.52   0.86       3      0      1  \n",
       "4   -12.61    0.0  -1.00    0.0    0.0   0.00   0.00      13      0      0  \n",
       "\n",
       "[5 rows x 2401 columns]"
      ]
     },
     "execution_count": 19,
     "metadata": {},
     "output_type": "execute_result"
    }
   ],
   "source": [
    "swarm_data['aligned'].iloc[0:5,:]"
   ]
  },
  {
   "cell_type": "code",
   "execution_count": 20,
   "id": "c3e02161-34e0-49d1-8141-bb35eb2af45d",
   "metadata": {},
   "outputs": [
    {
     "data": {
      "text/html": [
       "<div>\n",
       "<style scoped>\n",
       "    .dataframe tbody tr th:only-of-type {\n",
       "        vertical-align: middle;\n",
       "    }\n",
       "\n",
       "    .dataframe tbody tr th {\n",
       "        vertical-align: top;\n",
       "    }\n",
       "\n",
       "    .dataframe thead th {\n",
       "        text-align: right;\n",
       "    }\n",
       "</style>\n",
       "<table border=\"1\" class=\"dataframe\">\n",
       "  <thead>\n",
       "    <tr style=\"text-align: right;\">\n",
       "      <th></th>\n",
       "      <th>x1</th>\n",
       "      <th>y1</th>\n",
       "      <th>xVel1</th>\n",
       "      <th>yVel1</th>\n",
       "      <th>xA1</th>\n",
       "      <th>yA1</th>\n",
       "      <th>xS1</th>\n",
       "      <th>yS1</th>\n",
       "      <th>xC1</th>\n",
       "      <th>yC1</th>\n",
       "      <th>...</th>\n",
       "      <th>yVel200</th>\n",
       "      <th>xA200</th>\n",
       "      <th>yA200</th>\n",
       "      <th>xS200</th>\n",
       "      <th>yS200</th>\n",
       "      <th>xC200</th>\n",
       "      <th>yC200</th>\n",
       "      <th>nAC200</th>\n",
       "      <th>nS200</th>\n",
       "      <th>Class</th>\n",
       "    </tr>\n",
       "  </thead>\n",
       "  <tbody>\n",
       "    <tr>\n",
       "      <th>0</th>\n",
       "      <td>-1414.14</td>\n",
       "      <td>-535.22</td>\n",
       "      <td>-17.88</td>\n",
       "      <td>-7.23</td>\n",
       "      <td>0.00</td>\n",
       "      <td>0.0</td>\n",
       "      <td>0.00</td>\n",
       "      <td>0.00</td>\n",
       "      <td>0.00</td>\n",
       "      <td>0.00</td>\n",
       "      <td>...</td>\n",
       "      <td>-16.85</td>\n",
       "      <td>0.0</td>\n",
       "      <td>0.00</td>\n",
       "      <td>0.0</td>\n",
       "      <td>0.0</td>\n",
       "      <td>0.00</td>\n",
       "      <td>0.00</td>\n",
       "      <td>29</td>\n",
       "      <td>0</td>\n",
       "      <td>0</td>\n",
       "    </tr>\n",
       "    <tr>\n",
       "      <th>1</th>\n",
       "      <td>-1412.93</td>\n",
       "      <td>597.54</td>\n",
       "      <td>-13.55</td>\n",
       "      <td>-5.48</td>\n",
       "      <td>0.00</td>\n",
       "      <td>0.0</td>\n",
       "      <td>0.00</td>\n",
       "      <td>0.00</td>\n",
       "      <td>0.00</td>\n",
       "      <td>0.00</td>\n",
       "      <td>...</td>\n",
       "      <td>-12.09</td>\n",
       "      <td>0.0</td>\n",
       "      <td>0.00</td>\n",
       "      <td>0.0</td>\n",
       "      <td>0.0</td>\n",
       "      <td>0.00</td>\n",
       "      <td>0.00</td>\n",
       "      <td>44</td>\n",
       "      <td>0</td>\n",
       "      <td>0</td>\n",
       "    </tr>\n",
       "    <tr>\n",
       "      <th>2</th>\n",
       "      <td>-1407.38</td>\n",
       "      <td>70.72</td>\n",
       "      <td>-14.37</td>\n",
       "      <td>-5.81</td>\n",
       "      <td>0.00</td>\n",
       "      <td>0.0</td>\n",
       "      <td>0.00</td>\n",
       "      <td>0.00</td>\n",
       "      <td>0.00</td>\n",
       "      <td>0.00</td>\n",
       "      <td>...</td>\n",
       "      <td>-16.20</td>\n",
       "      <td>0.0</td>\n",
       "      <td>0.00</td>\n",
       "      <td>0.0</td>\n",
       "      <td>0.0</td>\n",
       "      <td>0.00</td>\n",
       "      <td>0.00</td>\n",
       "      <td>40</td>\n",
       "      <td>0</td>\n",
       "      <td>0</td>\n",
       "    </tr>\n",
       "    <tr>\n",
       "      <th>3</th>\n",
       "      <td>-1407.0</td>\n",
       "      <td>-759.80</td>\n",
       "      <td>-7.59</td>\n",
       "      <td>-1.27</td>\n",
       "      <td>-0.98</td>\n",
       "      <td>-0.2</td>\n",
       "      <td>0.00</td>\n",
       "      <td>0.00</td>\n",
       "      <td>0.91</td>\n",
       "      <td>0.41</td>\n",
       "      <td>...</td>\n",
       "      <td>2.99</td>\n",
       "      <td>-1.0</td>\n",
       "      <td>-0.07</td>\n",
       "      <td>0.0</td>\n",
       "      <td>0.0</td>\n",
       "      <td>-0.52</td>\n",
       "      <td>0.86</td>\n",
       "      <td>3</td>\n",
       "      <td>0</td>\n",
       "      <td>1</td>\n",
       "    </tr>\n",
       "    <tr>\n",
       "      <th>4</th>\n",
       "      <td>-1406.36</td>\n",
       "      <td>698.39</td>\n",
       "      <td>-16.54</td>\n",
       "      <td>-6.95</td>\n",
       "      <td>-1.00</td>\n",
       "      <td>0.0</td>\n",
       "      <td>-944.07</td>\n",
       "      <td>-396.62</td>\n",
       "      <td>0.00</td>\n",
       "      <td>0.00</td>\n",
       "      <td>...</td>\n",
       "      <td>-12.61</td>\n",
       "      <td>0.0</td>\n",
       "      <td>-1.00</td>\n",
       "      <td>0.0</td>\n",
       "      <td>0.0</td>\n",
       "      <td>0.00</td>\n",
       "      <td>0.00</td>\n",
       "      <td>13</td>\n",
       "      <td>0</td>\n",
       "      <td>0</td>\n",
       "    </tr>\n",
       "  </tbody>\n",
       "</table>\n",
       "<p>5 rows × 2401 columns</p>\n",
       "</div>"
      ],
      "text/plain": [
       "        x1      y1  xVel1  yVel1   xA1  yA1     xS1     yS1   xC1   yC1  ...  \\\n",
       "0 -1414.14 -535.22 -17.88  -7.23  0.00  0.0    0.00    0.00  0.00  0.00  ...   \n",
       "1 -1412.93  597.54 -13.55  -5.48  0.00  0.0    0.00    0.00  0.00  0.00  ...   \n",
       "2 -1407.38   70.72 -14.37  -5.81  0.00  0.0    0.00    0.00  0.00  0.00  ...   \n",
       "3  -1407.0 -759.80  -7.59  -1.27 -0.98 -0.2    0.00    0.00  0.91  0.41  ...   \n",
       "4 -1406.36  698.39 -16.54  -6.95 -1.00  0.0 -944.07 -396.62  0.00  0.00  ...   \n",
       "\n",
       "   yVel200  xA200  yA200  xS200  yS200  xC200  yC200  nAC200  nS200  Class   \n",
       "0   -16.85    0.0   0.00    0.0    0.0   0.00   0.00      29      0       0  \n",
       "1   -12.09    0.0   0.00    0.0    0.0   0.00   0.00      44      0       0  \n",
       "2   -16.20    0.0   0.00    0.0    0.0   0.00   0.00      40      0       0  \n",
       "3     2.99   -1.0  -0.07    0.0    0.0  -0.52   0.86       3      0       1  \n",
       "4   -12.61    0.0  -1.00    0.0    0.0   0.00   0.00      13      0       0  \n",
       "\n",
       "[5 rows x 2401 columns]"
      ]
     },
     "execution_count": 20,
     "metadata": {},
     "output_type": "execute_result"
    }
   ],
   "source": [
    "swarm_data['flocking'].iloc[0:5,0:]"
   ]
  },
  {
   "cell_type": "code",
   "execution_count": 16,
   "id": "cb2d6a69-962b-441b-a718-5cd50519e38a",
   "metadata": {},
   "outputs": [
    {
     "data": {
      "text/html": [
       "<div>\n",
       "<style scoped>\n",
       "    .dataframe tbody tr th:only-of-type {\n",
       "        vertical-align: middle;\n",
       "    }\n",
       "\n",
       "    .dataframe tbody tr th {\n",
       "        vertical-align: top;\n",
       "    }\n",
       "\n",
       "    .dataframe thead th {\n",
       "        text-align: right;\n",
       "    }\n",
       "</style>\n",
       "<table border=\"1\" class=\"dataframe\">\n",
       "  <thead>\n",
       "    <tr style=\"text-align: right;\">\n",
       "      <th></th>\n",
       "      <th>x1</th>\n",
       "      <th>y1</th>\n",
       "      <th>xVel1</th>\n",
       "      <th>yVel1</th>\n",
       "      <th>xA1</th>\n",
       "      <th>yA1</th>\n",
       "      <th>xS1</th>\n",
       "      <th>yS1</th>\n",
       "      <th>xC1</th>\n",
       "      <th>yC1</th>\n",
       "      <th>...</th>\n",
       "      <th>yVel200</th>\n",
       "      <th>xA200</th>\n",
       "      <th>yA200</th>\n",
       "      <th>xS200</th>\n",
       "      <th>yS200</th>\n",
       "      <th>xC200</th>\n",
       "      <th>yC200</th>\n",
       "      <th>nAC200</th>\n",
       "      <th>nS200</th>\n",
       "      <th>Class</th>\n",
       "    </tr>\n",
       "  </thead>\n",
       "  <tbody>\n",
       "    <tr>\n",
       "      <th>0</th>\n",
       "      <td>-1414.14</td>\n",
       "      <td>-535.22</td>\n",
       "      <td>-17.88</td>\n",
       "      <td>-7.23</td>\n",
       "      <td>0.00</td>\n",
       "      <td>0.0</td>\n",
       "      <td>0.00</td>\n",
       "      <td>0.00</td>\n",
       "      <td>0.00</td>\n",
       "      <td>0.00</td>\n",
       "      <td>...</td>\n",
       "      <td>-16.85</td>\n",
       "      <td>0.0</td>\n",
       "      <td>0.00</td>\n",
       "      <td>0.0</td>\n",
       "      <td>0.0</td>\n",
       "      <td>0.00</td>\n",
       "      <td>0.00</td>\n",
       "      <td>29</td>\n",
       "      <td>0</td>\n",
       "      <td>0</td>\n",
       "    </tr>\n",
       "    <tr>\n",
       "      <th>1</th>\n",
       "      <td>-1412.93</td>\n",
       "      <td>597.54</td>\n",
       "      <td>-13.55</td>\n",
       "      <td>-5.48</td>\n",
       "      <td>0.00</td>\n",
       "      <td>0.0</td>\n",
       "      <td>0.00</td>\n",
       "      <td>0.00</td>\n",
       "      <td>0.00</td>\n",
       "      <td>0.00</td>\n",
       "      <td>...</td>\n",
       "      <td>-12.09</td>\n",
       "      <td>0.0</td>\n",
       "      <td>0.00</td>\n",
       "      <td>0.0</td>\n",
       "      <td>0.0</td>\n",
       "      <td>0.00</td>\n",
       "      <td>0.00</td>\n",
       "      <td>44</td>\n",
       "      <td>0</td>\n",
       "      <td>0</td>\n",
       "    </tr>\n",
       "    <tr>\n",
       "      <th>2</th>\n",
       "      <td>-1407.38</td>\n",
       "      <td>70.72</td>\n",
       "      <td>-14.37</td>\n",
       "      <td>-5.81</td>\n",
       "      <td>0.00</td>\n",
       "      <td>0.0</td>\n",
       "      <td>0.00</td>\n",
       "      <td>0.00</td>\n",
       "      <td>0.00</td>\n",
       "      <td>0.00</td>\n",
       "      <td>...</td>\n",
       "      <td>-16.20</td>\n",
       "      <td>0.0</td>\n",
       "      <td>0.00</td>\n",
       "      <td>0.0</td>\n",
       "      <td>0.0</td>\n",
       "      <td>0.00</td>\n",
       "      <td>0.00</td>\n",
       "      <td>40</td>\n",
       "      <td>0</td>\n",
       "      <td>0</td>\n",
       "    </tr>\n",
       "    <tr>\n",
       "      <th>3</th>\n",
       "      <td>-1407.00</td>\n",
       "      <td>-759.80</td>\n",
       "      <td>-7.59</td>\n",
       "      <td>-1.27</td>\n",
       "      <td>-0.98</td>\n",
       "      <td>-0.2</td>\n",
       "      <td>0.00</td>\n",
       "      <td>0.00</td>\n",
       "      <td>0.91</td>\n",
       "      <td>0.41</td>\n",
       "      <td>...</td>\n",
       "      <td>2.99</td>\n",
       "      <td>-1.0</td>\n",
       "      <td>-0.07</td>\n",
       "      <td>0.0</td>\n",
       "      <td>0.0</td>\n",
       "      <td>-0.52</td>\n",
       "      <td>0.86</td>\n",
       "      <td>3</td>\n",
       "      <td>0</td>\n",
       "      <td>1</td>\n",
       "    </tr>\n",
       "    <tr>\n",
       "      <th>4</th>\n",
       "      <td>-1406.36</td>\n",
       "      <td>698.39</td>\n",
       "      <td>-16.54</td>\n",
       "      <td>-6.95</td>\n",
       "      <td>-1.00</td>\n",
       "      <td>0.0</td>\n",
       "      <td>-944.07</td>\n",
       "      <td>-396.62</td>\n",
       "      <td>0.00</td>\n",
       "      <td>0.00</td>\n",
       "      <td>...</td>\n",
       "      <td>-12.61</td>\n",
       "      <td>0.0</td>\n",
       "      <td>-1.00</td>\n",
       "      <td>0.0</td>\n",
       "      <td>0.0</td>\n",
       "      <td>0.00</td>\n",
       "      <td>0.00</td>\n",
       "      <td>13</td>\n",
       "      <td>0</td>\n",
       "      <td>0</td>\n",
       "    </tr>\n",
       "  </tbody>\n",
       "</table>\n",
       "<p>5 rows × 2401 columns</p>\n",
       "</div>"
      ],
      "text/plain": [
       "        x1      y1  xVel1  yVel1   xA1  yA1     xS1     yS1   xC1   yC1  ...  \\\n",
       "0 -1414.14 -535.22 -17.88  -7.23  0.00  0.0    0.00    0.00  0.00  0.00  ...   \n",
       "1 -1412.93  597.54 -13.55  -5.48  0.00  0.0    0.00    0.00  0.00  0.00  ...   \n",
       "2 -1407.38   70.72 -14.37  -5.81  0.00  0.0    0.00    0.00  0.00  0.00  ...   \n",
       "3 -1407.00 -759.80  -7.59  -1.27 -0.98 -0.2    0.00    0.00  0.91  0.41  ...   \n",
       "4 -1406.36  698.39 -16.54  -6.95 -1.00  0.0 -944.07 -396.62  0.00  0.00  ...   \n",
       "\n",
       "   yVel200  xA200  yA200  xS200  yS200  xC200  yC200  nAC200  nS200  Class  \n",
       "0   -16.85    0.0   0.00    0.0    0.0   0.00   0.00      29      0      0  \n",
       "1   -12.09    0.0   0.00    0.0    0.0   0.00   0.00      44      0      0  \n",
       "2   -16.20    0.0   0.00    0.0    0.0   0.00   0.00      40      0      0  \n",
       "3     2.99   -1.0  -0.07    0.0    0.0  -0.52   0.86       3      0      1  \n",
       "4   -12.61    0.0  -1.00    0.0    0.0   0.00   0.00      13      0      0  \n",
       "\n",
       "[5 rows x 2401 columns]"
      ]
     },
     "execution_count": 16,
     "metadata": {},
     "output_type": "execute_result"
    }
   ],
   "source": [
    "swarm_data['grouped'].iloc[0:5,:]"
   ]
  },
  {
   "cell_type": "code",
   "execution_count": 21,
   "id": "86a9ecd0-f2f1-48f9-8425-6a2b2cce26b4",
   "metadata": {},
   "outputs": [],
   "source": [
    "\n",
    "def split_into_train_val_test(df, tr_frac=0.5, rem_frac=0.5, seed=1, where_target='last',\n",
    "                             return_what='dict'):\n",
    "    \n",
    "    # shuffle the dataframe\n",
    "    df = df.sample(frac=1, random_state=seed)\n",
    "\n",
    "    if where_target=='last':\n",
    "        df_preds = df.iloc[:, :-1]\n",
    "        df_targets = df.iloc[:, -1]\n",
    "\n",
    "    # split into training and testing\n",
    "    # 0.7, 0.3\n",
    "    split_one = int(df_preds.shape[0] * tr_frac)\n",
    "\n",
    "    df_preds_train = df_preds[:split_one]\n",
    "    df_targets_train = df_targets[:split_one]\n",
    "    remaining_preds, remaining_targets = df_preds[split_one:], df_targets[split_one:]\n",
    "\n",
    "    split_two = int(remaining_preds.shape[0]*rem_frac)\n",
    "    df_preds_val = remaining_preds[:split_two]\n",
    "    df_preds_test = remaining_preds[split_two:]\n",
    "\n",
    "    df_targets_val = remaining_targets[:split_two]\n",
    "    df_targets_test = remaining_targets[split_two:]\n",
    "\n",
    "    print(df_preds_train.shape, df_targets_train.shape)\n",
    "    print(df_preds_val.shape, df_targets_val.shape)\n",
    "    print(df_preds_test.shape, df_targets_test.shape)\n",
    "    \n",
    "    if return_what=='dict':\n",
    "        return  {'train': (df_preds_train.to_numpy(), df_targets_train.to_numpy()), \n",
    "                 'validate': (df_preds_val.to_numpy(), df_targets_val.to_numpy()),\n",
    "                 'test': (df_preds_test.to_numpy(), df_targets_test.to_numpy())}\n",
    "    elif return_what=='tuple':\n",
    "        return ((df_preds_train.to_numpy(), df_targets_train.to_numpy()), \n",
    "                (df_preds_val.to_numpy(), df_targets_val.to_numpy()), \n",
    "                (df_preds_test.to_numpy(), df_targets_test.to_numpy()))"
   ]
  },
  {
   "attachments": {},
   "cell_type": "markdown",
   "id": "c0850c86-c984-40c7-b003-bf334627cce2",
   "metadata": {},
   "source": [
    "# Dataset\n",
    "\n",
    "I will be using the `aligned` dataset, and will\n",
    "\n",
    "- normalize the data\n",
    "- split the data\n",
    "- move the data to the device i.e. gpu, in this case"
   ]
  },
  {
   "cell_type": "code",
   "execution_count": 22,
   "id": "72a5289f-cad3-4539-876c-6d1717047405",
   "metadata": {},
   "outputs": [],
   "source": [
    "# standardizing the data\n",
    "mean_ = swarm_data['aligned'].iloc[:, :-1].mean(axis=0)\n",
    "std_ = swarm_data['aligned'].iloc[:, :-1].std(axis=0)\n",
    "\n",
    "swarm_data['aligned'].iloc[:, :-1] = (swarm_data['aligned'].iloc[:, :-1] - mean_)/std_"
   ]
  },
  {
   "cell_type": "code",
   "execution_count": 23,
   "id": "00e72c56-c5fb-40fe-b8f8-58180d71164d",
   "metadata": {},
   "outputs": [
    {
     "name": "stdout",
     "output_type": "stream",
     "text": [
      "(12008, 2400) (12008,)\n",
      "(6004, 2400) (6004,)\n",
      "(6004, 2400) (6004,)\n"
     ]
    }
   ],
   "source": [
    "data_split = split_into_train_val_test(df=swarm_data['aligned'], return_what='tuple')\n",
    "X_train, y_train = data_split[0]\n",
    "X_test, y_test = data_split[1]\n",
    "X_valid, y_valid = data_split[2]\n",
    "\n",
    "# \n",
    "X_train = torch.tensor(X_train, dtype=torch.float64).to(device)\n",
    "y_train = torch.tensor(y_train).type(torch.LongTensor).to(device)\n",
    "\n",
    "X_test = torch.tensor(X_test, dtype=torch.float64).to(device)\n",
    "y_test = torch.tensor(y_test).type(torch.LongTensor).to(device)"
   ]
  },
  {
   "cell_type": "code",
   "execution_count": 24,
   "id": "80cc3eb5-0e6e-4ddd-b8b7-05aa8a9aeb39",
   "metadata": {},
   "outputs": [
    {
     "data": {
      "text/plain": [
       "True"
      ]
     },
     "execution_count": 24,
     "metadata": {},
     "output_type": "execute_result"
    }
   ],
   "source": [
    "X_train.is_cuda"
   ]
  },
  {
   "attachments": {},
   "cell_type": "markdown",
   "id": "80e0d852-f4c6-4994-80d3-0074f7873a02",
   "metadata": {},
   "source": [
    "# Defining the model\n",
    "\n",
    "Here I use a multilayer perceptron, or mlp. "
   ]
  },
  {
   "cell_type": "code",
   "execution_count": 25,
   "id": "df5d911f-4580-437c-9e7e-53301fd6e4a2",
   "metadata": {},
   "outputs": [],
   "source": [
    "class SwarmNN(torch.nn.Module):\n",
    "    \n",
    "    '''\n",
    "    \n",
    "    '''\n",
    "    \n",
    "    def __init__(self, in_dim, out_dim, hidden_dims=[], use_bias=True):\n",
    "        '''\n",
    "        Constructs a multilayer perceptron\n",
    "        '''\n",
    "        \n",
    "        super(SwarmNN, self).__init__()\n",
    "        \n",
    "        self.in_dim = in_dim\n",
    "        self.out_dim = out_dim\n",
    "        # assuming we don't have any hidden layer, this will just implement a linear model\n",
    "        if len(hidden_dims) == 0:\n",
    "            layers = [torch.nn.Linear(in_dim, out_dim, bias=use_bias)]\n",
    "        else:\n",
    "            layers = [torch.nn.Linear(in_dim, hidden_dims[0], bias=use_bias), torch.nn.ReLU()]\n",
    "            \n",
    "            for i, hidden_dim in enumerate(hidden_dims[:-1]):\n",
    "                layers += [torch.nn.Linear(hidden_dim, hidden_dims[i+1], bias=use_bias), torch.nn.ReLU()]\n",
    "            layers += [torch.nn.Linear(hidden_dims[-1], out_dim, bias=use_bias)]\n",
    "            \n",
    "        self.main = torch.nn.Sequential(*layers)\n",
    "        \n",
    "    def forward(self, x):\n",
    "        \n",
    "        hidden_output = self.main(x)\n",
    "        output = torch.nn.functional.softmax(hidden_output, dim=1)\n",
    "        #output = output.argmax(dim=1)\n",
    "        \n",
    "        return output"
   ]
  },
  {
   "cell_type": "code",
   "execution_count": 26,
   "id": "4deaf942-0ad9-4599-ace3-1e511e55ed2c",
   "metadata": {},
   "outputs": [
    {
     "data": {
      "text/plain": [
       "SwarmNN(\n",
       "  (main): Sequential(\n",
       "    (0): Linear(in_features=2400, out_features=500, bias=True)\n",
       "    (1): ReLU()\n",
       "    (2): Linear(in_features=500, out_features=100, bias=True)\n",
       "    (3): ReLU()\n",
       "    (4): Linear(in_features=100, out_features=2, bias=True)\n",
       "  )\n",
       ")"
      ]
     },
     "execution_count": 26,
     "metadata": {},
     "output_type": "execute_result"
    }
   ],
   "source": [
    "model = SwarmNN(in_dim=X_train.shape[1], out_dim=2, hidden_dims=[500, 100]).to(device)\n",
    "model"
   ]
  },
  {
   "cell_type": "code",
   "execution_count": 27,
   "id": "bccd0441-9b22-4624-b7d7-3299c86e7b2a",
   "metadata": {},
   "outputs": [
    {
     "name": "stdout",
     "output_type": "stream",
     "text": [
      "torch.Size([500, 2400])\n",
      "torch.Size([500])\n",
      "torch.Size([100, 500])\n",
      "torch.Size([100])\n",
      "torch.Size([2, 100])\n",
      "torch.Size([2])\n"
     ]
    }
   ],
   "source": [
    "for param in model.parameters():\n",
    "    print(param.shape)"
   ]
  },
  {
   "attachments": {},
   "cell_type": "markdown",
   "id": "08ccdc0c-37da-4560-8904-47ea72358f34",
   "metadata": {},
   "source": [
    "# Dataloaders\n",
    "\n",
    "Currently, I am not using dataloaders. I will implement this some other time."
   ]
  },
  {
   "cell_type": "code",
   "execution_count": 28,
   "id": "8098adc3-ec28-43ba-8e79-de79f509bcc1",
   "metadata": {},
   "outputs": [],
   "source": [
    "# trainloader = torch.utils.data.DataLoader((X_train, y_train), batch_size=32, shuffle=True)\n",
    "# testloader = torch.utils.data.DataLoader((X_test, y_test), batch_size=32, shuffle=False)"
   ]
  },
  {
   "attachments": {},
   "cell_type": "markdown",
   "id": "09977866",
   "metadata": {},
   "source": [
    "# Training\n",
    "\n",
    "Here I use:\n",
    "- a learning rate of 0.001\n",
    "- SGD as the optimizer\n",
    "- cross-entropy loss"
   ]
  },
  {
   "cell_type": "code",
   "execution_count": 29,
   "id": "0b8360e7-dc5c-4219-ac07-179ed847abda",
   "metadata": {},
   "outputs": [],
   "source": [
    "lr = 0.001\n",
    "optimizer = torch.optim.SGD(model.parameters(), lr=lr)\n",
    "loss_fxn = torch.nn.CrossEntropyLoss()"
   ]
  },
  {
   "cell_type": "code",
   "execution_count": 31,
   "id": "f7ac710c-dcba-431a-9bd5-bba9d418b767",
   "metadata": {},
   "outputs": [],
   "source": [
    "num_epochs = 500\n",
    "\n",
    "loss_tally = []\n",
    "acc_tally = []\n",
    "metrics = {}\n",
    "\n",
    "# for the test set\n",
    "test_loss = []\n",
    "test_acc = []\n",
    "\n",
    "for epoch in range(0, num_epochs):\n",
    "    model.train()\n",
    "    optimizer.zero_grad()\n",
    "    predictions = model(X_train.float()).to(device)\n",
    "    loss = loss_fxn(predictions, y_train)\n",
    "    acc = torch.mean(1.0 * (predictions.argmax(dim=1) == y_train))\n",
    "    loss.backward()\n",
    "    optimizer.step()\n",
    "\n",
    "    #running_loss += loss.item()\n",
    "    #loss_tally.append(running_loss)\n",
    "    loss_tally.append(loss.cpu().item())\n",
    "    acc_tally.append(acc.cpu().item())\n",
    "    \n",
    "    # on the test set\n",
    "    with torch.no_grad():\n",
    "        model.eval()\n",
    "        test_pred = model(X_test.float())\n",
    "        test_l = loss_fxn(test_pred, y_test).item()\n",
    "        \n",
    "        #print(f'Test loss {epoch}: {test_l}')\n",
    "        test_loss.append(test_l)\n",
    "        test_acc.append(torch.mean(1.0 * (test_pred.argmax(dim=1) == y_test)).item())\n",
    "        \n",
    "\n",
    "metrics['train_loss'] = loss_tally\n",
    "metrics['train_accuracy'] = acc_tally\n",
    "metrics['test_loss'] = test_loss\n",
    "metrics['test_accuracy'] = test_acc"
   ]
  },
  {
   "cell_type": "code",
   "execution_count": 49,
   "id": "7f0c47c4-d2ef-4321-84ec-08f87adef583",
   "metadata": {},
   "outputs": [],
   "source": [
    "def plot_my_training(metrics):\n",
    "\n",
    "    fig, ax = plt.subplots(1, 2, figsize=(10, 4))\n",
    "\n",
    "    ax[0].plot(range(len(metrics['train_loss'])), metrics['train_loss'],\n",
    "            alpha=0.8, label='Train')\n",
    "    ax[0].plot(range(len(metrics['test_loss'])), metrics['test_loss'], label='Test')\n",
    "    ax[0].set_xlabel('Iteration/Epoch')\n",
    "    ax[0].set_ylabel('Loss')\n",
    "    ax[0].legend()\n",
    "\n",
    "    ax[1].plot(range(len(metrics['train_accuracy'])), metrics['train_accuracy'],\n",
    "            alpha=0.8, label='Train')\n",
    "    ax[1].plot(range(len(metrics['test_accuracy'])), metrics['test_accuracy'], label='Test')\n",
    "    ax[1].set_xlabel('Iteration/Epoch')\n",
    "    ax[1].set_ylabel('Accuracy')\n",
    "    ax[1].legend()\n",
    "    plt.tight_layout()\n",
    "    plt.show()"
   ]
  },
  {
   "attachments": {},
   "cell_type": "markdown",
   "id": "9c4bb169",
   "metadata": {},
   "source": [
    "# Performance"
   ]
  },
  {
   "cell_type": "code",
   "execution_count": 50,
   "id": "52017864-27e0-4e14-9a6c-023d301df52f",
   "metadata": {},
   "outputs": [
    {
     "data": {
      "image/png": "[encoded data removed]",
      "text/plain": [
       "<Figure size 1000x400 with 2 Axes>"
      ]
     },
     "metadata": {},
     "output_type": "display_data"
    }
   ],
   "source": [
    "plot_my_training(metrics)"
   ]
  },
  {
   "cell_type": "code",
   "execution_count": null,
   "id": "b28483a8",
   "metadata": {},
   "outputs": [],
   "source": []
  }
 ],
 "metadata": {
  "kernelspec": {
   "display_name": "dl-tools",
   "language": "python",
   "name": "python3"
  },
  "language_info": {
   "codemirror_mode": {
    "name": "ipython",
    "version": 3
   },
   "file_extension": ".py",
   "mimetype": "text/x-python",
   "name": "python",
   "nbconvert_exporter": "python",
   "pygments_lexer": "ipython3",
   "version": "3.1.-1"
  },
  "vscode": {
   "interpreter": {
    "hash": "779a06769b813db96a12900b9205a53bfcff594ced61eda8ffdd4dec04c21cd7"
   }
  }
 },
 "nbformat": 4,
 "nbformat_minor": 5
}
